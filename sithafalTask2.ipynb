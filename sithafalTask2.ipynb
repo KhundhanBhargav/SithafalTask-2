{
  "nbformat": 4,
  "nbformat_minor": 0,
  "metadata": {
    "colab": {
      "provenance": [],
      "authorship_tag": "ABX9TyP3munhzYCYqSsdm75jXDcR",
      "include_colab_link": true
    },
    "kernelspec": {
      "name": "python3",
      "display_name": "Python 3"
    },
    "language_info": {
      "name": "python"
    }
  },
  "cells": [
    {
      "cell_type": "markdown",
      "metadata": {
        "id": "view-in-github",
        "colab_type": "text"
      },
      "source": [
        "<a href=\"https://colab.research.google.com/github/KhundhanBhargav/SithafalTask-2/blob/main/sithafalTask2.ipynb\" target=\"_parent\"><img src=\"https://colab.research.google.com/assets/colab-badge.svg\" alt=\"Open In Colab\"/></a>"
      ]
    },
    {
      "cell_type": "code",
      "execution_count": 5,
      "metadata": {
        "colab": {
          "base_uri": "https://localhost:8080/"
        },
        "id": "NO6euBHshSju",
        "outputId": "cb9ea7eb-f7f5-4d35-9d65-c2aa6cf91d40"
      },
      "outputs": [
        {
          "output_type": "stream",
          "name": "stdout",
          "text": [
            "Requirement already satisfied: faiss-cpu in /usr/local/lib/python3.10/dist-packages (1.9.0.post1)\n",
            "Requirement already satisfied: numpy<3.0,>=1.25.0 in /usr/local/lib/python3.10/dist-packages (from faiss-cpu) (1.26.4)\n",
            "Requirement already satisfied: packaging in /usr/local/lib/python3.10/dist-packages (from faiss-cpu) (24.2)\n"
          ]
        }
      ],
      "source": [
        "!pip install faiss-cpu\n",
        "from sentence_transformers import SentenceTransformer\n",
        "import faiss\n",
        "import requests\n",
        "from bs4 import BeautifulSoup"
      ]
    },
    {
      "cell_type": "code",
      "source": [
        "def crawl_and_scrape(urls):\n",
        "\n",
        "    headers = {\n",
        "        \"User-Agent\": \"Mozilla/5.0 (Windows NT 10.0; Win64; x64) AppleWebKit/537.36 (KHTML, like Gecko) Chrome/91.0.4472.124 Safari/537.36\"\n",
        "    }\n",
        "    content = []\n",
        "    for url in urls:\n",
        "        try:\n",
        "            response = requests.get(url, headers=headers)\n",
        "            response.raise_for_status()\n",
        "            soup = BeautifulSoup(response.content, 'html.parser')\n",
        "            text = ' '.join([p.get_text() for p in soup.find_all('p')])\n",
        "            content.append(text)\n",
        "        except Exception as e:\n",
        "            print(f\"Error scraping {url}: {e}\")\n",
        "    return ' '.join(content)"
      ],
      "metadata": {
        "id": "irhYeZ82k0o6"
      },
      "execution_count": 6,
      "outputs": []
    },
    {
      "cell_type": "code",
      "source": [
        "def chunk_text(text, chunk_size=100):\n",
        "\n",
        "    words = text.split()\n",
        "    return [' '.join(words[i:i + chunk_size]) for i in range(0, len(words), chunk_size)]"
      ],
      "metadata": {
        "id": "RKRC-VcKk6iI"
      },
      "execution_count": 7,
      "outputs": []
    },
    {
      "cell_type": "code",
      "source": [
        "def store_embeddings(chunks, model):\n",
        "\n",
        "    embeddings = model.encode(chunks)\n",
        "    dimension = embeddings.shape[1]\n",
        "    index = faiss.IndexFlatL2(dimension)\n",
        "    index.add(embeddings)\n",
        "    return index, chunks"
      ],
      "metadata": {
        "id": "m2Q_H7-HlGeY"
      },
      "execution_count": 8,
      "outputs": []
    },
    {
      "cell_type": "code",
      "source": [
        "def query_vector_database(query, index, model, chunks, top_k=3):\n",
        "\n",
        "    query_embedding = model.encode([query])\n",
        "    distances, indices = index.search(query_embedding, top_k)\n",
        "    return [chunks[i] for i in indices[0]]"
      ],
      "metadata": {
        "id": "EcuYsbu-lGh4"
      },
      "execution_count": 9,
      "outputs": []
    },
    {
      "cell_type": "code",
      "source": [
        "def generate_response(results):\n",
        "\n",
        "    return \"\\n\".join(results)"
      ],
      "metadata": {
        "id": "I6wa-IbxlGvC"
      },
      "execution_count": 10,
      "outputs": []
    },
    {
      "cell_type": "code",
      "source": [
        "def main():\n",
        "    # Step 1: Define URLs\n",
        "    urls = [\n",
        "        \"https://www.uchicago.edu/\",\n",
        "        \"https://www.washington.edu/\",\n",
        "        \"https://www.stanford.edu/\",\n",
        "        \"https://und.edu/\",\n",
        "    ]\n",
        "\n",
        "    # Step 2: Initialize embedding model\n",
        "    print(\"Loading embedding model...\")\n",
        "    model = SentenceTransformer(\"all-MiniLM-L6-v2\")  # Pre-trained model\n",
        "\n",
        "    # Step 3: Crawl and scrape websites\n",
        "    print(\"Crawling and scraping websites...\")\n",
        "    website_data = crawl_and_scrape(urls)\n",
        "\n",
        "    # Step 4: Chunk and embed content\n",
        "    print(\"Chunking and embedding content...\")\n",
        "    chunks = chunk_text(website_data)\n",
        "    index, stored_chunks = store_embeddings(chunks, model)\n",
        "\n",
        "    # Step 5: Handle user query\n",
        "    query = input(\"Enter your query: \")\n",
        "    print(\"Searching content...\")\n",
        "    answers = query_vector_database(query, index, model, stored_chunks)\n",
        "    print(\"Generating response...\")\n",
        "    response = generate_response(answers)\n",
        "    print(response)"
      ],
      "metadata": {
        "id": "2IhgCWaelTRc"
      },
      "execution_count": 11,
      "outputs": []
    },
    {
      "cell_type": "code",
      "source": [
        "if __name__ == \"__main__\":\n",
        "    main()"
      ],
      "metadata": {
        "colab": {
          "base_uri": "https://localhost:8080/"
        },
        "id": "EVfORuURlYja",
        "outputId": "3dcb5ba4-33e5-44e9-89c9-ea0aec013a2d"
      },
      "execution_count": 12,
      "outputs": [
        {
          "output_type": "stream",
          "name": "stdout",
          "text": [
            "Loading embedding model...\n",
            "Crawling and scraping websites...\n",
            "Chunking and embedding content...\n",
            "Enter your query: what is washington\n",
            "Searching content...\n",
            "Generating response...\n",
            "thrilled to welcome him to UW.” Read story Capping a big — and BIG TEN — year, the Huskies are headed for the Tony the Tiger Sun Bowl! Join fellow fans in cheering on our favorite Dawgs against Louisville in El Paso, TX on December 31. Bowl Central David Baker, professor of biochemistry at the UW School of Medicine in Seattle, received the 2024 Nobel Prize in Chemistry. Nobel Week wove stately traditions with imaginative recognitions. Read story © 2024 University of Washington | Seattle, WA Other ways to search: Map Profiles Stanford Explore Stanford Stanford was founded almost 150\n",
            "an international community of scholars working to solve the world's most pressing issues, with initiatives and programs on all seven continents. Chicago is not only in our name, it’s woven into the fabric of this institution. Located in the Hyde Park neighborhood, we benefit from the diversity, arts, and vibrant culture of our South Side community. UW astronomy undergrads are using cutting-edge coding skills to help scientists make the most of discoveries from a revolutionary new telescope. Read story Chris Mantegna, ’21, is studying how pollutants affect shellfish in our food web — and training a new generation of marine\n",
            "years ago on a bedrock of societal purpose. Our mission is to contribute to the world by educating students for lives of leadership and contribution with integrity; advancing fundamental knowledge and cultivating creativity; leading in pioneering research for effective clinical therapies; and accelerating solutions and amplifying their impact. Stories about people, research, and innovation across the Farm Libraries & Archives Science & Engineering Earth & Climate Science & Engineering Health & Medicine Science & Engineering Preparing students to make meaningful contributions to society as engaged citizens and leaders in a complex world Rich learning experiences that provide a broad liberal\n"
          ]
        }
      ]
    }
  ]
}